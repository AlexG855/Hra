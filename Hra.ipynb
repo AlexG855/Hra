{
  "nbformat": 4,
  "nbformat_minor": 0,
  "metadata": {
    "colab": {
      "provenance": [],
      "authorship_tag": "ABX9TyPKzN2NG3PBPG2NYYri2hhR",
      "include_colab_link": true
    },
    "kernelspec": {
      "name": "python3",
      "display_name": "Python 3"
    },
    "language_info": {
      "name": "python"
    }
  },
  "cells": [
    {
      "cell_type": "markdown",
      "metadata": {
        "id": "view-in-github",
        "colab_type": "text"
      },
      "source": [
        "<a href=\"https://colab.research.google.com/github/AlexG855/Hra/blob/main/Hra.ipynb\" target=\"_parent\"><img src=\"https://colab.research.google.com/assets/colab-badge.svg\" alt=\"Open In Colab\"/></a>"
      ]
    },
    {
      "cell_type": "markdown",
      "source": [
        "# Tvorba hry\n",
        "Príbeh s dvoma možnosťami na konci 2. Po výberu sa vytvorí daľšia časť príbehu.\n",
        "vždy je len jedna možnosť správná."
      ],
      "metadata": {
        "id": "em4NRbdYgK3T"
      }
    },
    {
      "cell_type": "code",
      "source": [
        "# prompt: Príbeh s dvoma možnosťami na konci 2. Po výberu sa vytvorí daľšia časť príbehu. vždy je len jedna možnosť správná.\n",
        "\n",
        "# # Tvorba hry\n",
        "# Príbeh s dvoma možnosťami na konci 2. Po výberu sa vytvorí daľšia časť príbehu.\n",
        "# vždy je len jedna možnosť správná.\n",
        "\n",
        "def start_game():\n",
        "    print(\"Začínaš svoj príbeh. Stojíš pred starou, drevenou chalupou hlboko v lese.\")\n",
        "    print(\"Cítiš chladný vietor a počuješ šum stromov.\")\n",
        "    print(\"Čo urobíš?\")\n",
        "    print(\"1. Zaklopeš na dvere.\")\n",
        "    print(\"2. Pokúsiš sa otvoriť okno.\")\n",
        "\n",
        "    choice = input(\"Vyber si možnosť (1 alebo 2): \")\n",
        "\n",
        "    if choice == \"1\":\n",
        "        path_zaklopat_na_dvere()\n",
        "    elif choice == \"2\":\n",
        "        path_otvorit_okno()\n",
        "    else:\n",
        "        print(\"Neplatná voľba. Skús to znova.\")\n",
        "        start_game()\n",
        "\n",
        "def path_zaklopat_na_dvere():\n",
        "    print(\"\\nZaklopal si na dvere. Po chvíli sa dvere pomaly otvoria.\")\n",
        "    print(\"V dverách stojí stará žena s milým úsmevom.\")\n",
        "    print(\"'Vitaj, pocestný,' povie. 'Pojdi ďalej.'\")\n",
        "    print(\"Čo urobíš?\")\n",
        "    print(\"1. Prijmeš jej pozvanie a vstúpiš.\")\n",
        "    print(\"2. Oospravedlníš sa a odídeš.\")\n",
        "\n",
        "    choice = input(\"Vyber si možnosť (1 alebo 2): \")\n",
        "\n",
        "    if choice == \"1\":\n",
        "        path_vstupit_do_chalupy()\n",
        "    elif choice == \"2\":\n",
        "        path_odist_z_chalupy() # Toto je \"nesprávna\" možnosť v tomto prípade\n",
        "    else:\n",
        "        print(\"Neplatná voľba. Skús to znova.\")\n",
        "        path_zaklopat_na_dvere()\n",
        "\n",
        "def path_otvorit_okno():\n",
        "    print(\"\\nPokúšaš sa otvoriť okno, ale je pevne zatvorené.\")\n",
        "    print(\"Počuješ zvuk spoza chalupy a cítiš, že niečo nie je v poriadku.\")\n",
        "    print(\"Rýchlo sa otočíš a vidíš...\")\n",
        "    print(\"Koniec príbehu. Táto cesta viedla do slepej uličky.\") # Toto je \"nesprávna\" možnosť hneď na začiatku\n",
        "    # Tu by si mohol pridať nejaký negatívny následok, napríklad, že ťa niekto chytí alebo sa stratíš.\n",
        "\n",
        "def path_vstupit_do_chalupy():\n",
        "    print(\"\\nVstúpil si do chalupy. Vnútri je teplo a útulno.\")\n",
        "    print(\"Stará žena ti ponúkne teplý čaj a kúsok koláča.\")\n",
        "    print(\"'Som rád, že si tu,' povie. 'Potrebujem pomoc s jednou vecou.'\")\n",
        "    print(\"Čo urobíš?\")\n",
        "    print(\"1. Opýtaš sa, s čím potrebuje pomoc.\")\n",
        "    print(\"2. Povieš, že nemáš čas a potrebuješ ísť ďalej.\")\n",
        "\n",
        "    choice = input(\"Vyber si možnosť (1 alebo 2): \")\n",
        "\n",
        "    if choice == \"1\":\n",
        "        path_pomoc_starej_zene() # Toto je \"správna\" možnosť\n",
        "    elif choice == \"2\":\n",
        "        path_odist_po_caji() # Toto je \"nesprávna\" možnosť\n",
        "    else:\n",
        "        print(\"Neplatná voľba. Skús to znova.\")\n",
        "        path_vstupit_do_chalupy()\n",
        "\n",
        "def path_odist_z_chalupy():\n",
        "    print(\"\\nOspravedlnil si sa a odišiel si od chalupy.\")\n",
        "    print(\"Cítiš, že si niečo zmeškal.\")\n",
        "    print(\"Koniec príbehu. Možno sa sem raz vrátiš.\") # Toto je \"nesprávna\" možnosť\n",
        "\n",
        "def path_pomoc_starej_zene():\n",
        "    print(\"\\n'Potrebujem, aby si mi pomohol nájsť stratený artefakt,' povie stará žena.\")\n",
        "    print(\"'Je ukrytý niekde blízko, ale sám ho nedokážem nájsť.'\")\n",
        "    print(\"Súhlasíš, že jej pomôžeš a stará žena ti dá mapu.\")\n",
        "    print(\"Pokračovanie príbehu...\") # Tu by sa príbeh rozvinul ďalej\n",
        "\n",
        "def path_odist_po_caji():\n",
        "    print(\"\\nPovedal si, že nemáš čas a potrebuješ ísť ďalej.\")\n",
        "    print(\"Stará žena sa trochu sklesne usmeje.\")\n",
        "    print(\"'Škoda,' povie. 'Drž sa na cestách.'\")\n",
        "    print(\"Odišiel si z chalupy a pokračuješ vo svojej ceste sám.\")\n",
        "    print(\"Koniec príbehu.\") # Toto je \"nesprávna\" možnosť\n",
        "\n",
        "# Spustenie hry\n",
        "start_game()\n"
      ],
      "metadata": {
        "colab": {
          "base_uri": "https://localhost:8080/"
        },
        "id": "eKlSe1Dfg9xG",
        "outputId": "b1cada44-73df-407c-c587-0da71e062cb9"
      },
      "execution_count": 1,
      "outputs": [
        {
          "output_type": "stream",
          "name": "stdout",
          "text": [
            "Začínaš svoj príbeh. Stojíš pred starou, drevenou chalupou hlboko v lese.\n",
            "Cítiš chladný vietor a počuješ šum stromov.\n",
            "Čo urobíš?\n",
            "1. Zaklopeš na dvere.\n",
            "2. Pokúsiš sa otvoriť okno.\n",
            "Vyber si možnosť (1 alebo 2): 1\n",
            "\n",
            "Zaklopal si na dvere. Po chvíli sa dvere pomaly otvoria.\n",
            "V dverách stojí stará žena s milým úsmevom.\n",
            "'Vitaj, pocestný,' povie. 'Pojdi ďalej.'\n",
            "Čo urobíš?\n",
            "1. Prijmeš jej pozvanie a vstúpiš.\n",
            "2. Oospravedlníš sa a odídeš.\n",
            "Vyber si možnosť (1 alebo 2): 1\n",
            "\n",
            "Vstúpil si do chalupy. Vnútri je teplo a útulno.\n",
            "Stará žena ti ponúkne teplý čaj a kúsok koláča.\n",
            "'Som rád, že si tu,' povie. 'Potrebujem pomoc s jednou vecou.'\n",
            "Čo urobíš?\n",
            "1. Opýtaš sa, s čím potrebuje pomoc.\n",
            "2. Povieš, že nemáš čas a potrebuješ ísť ďalej.\n",
            "Vyber si možnosť (1 alebo 2): 1\n",
            "\n",
            "'Potrebujem, aby si mi pomohol nájsť stratený artefakt,' povie stará žena.\n",
            "'Je ukrytý niekde blízko, ale sám ho nedokážem nájsť.'\n",
            "Súhlasíš, že jej pomôžeš a stará žena ti dá mapu.\n",
            "Pokračovanie príbehu...\n"
          ]
        }
      ]
    }
  ]
}