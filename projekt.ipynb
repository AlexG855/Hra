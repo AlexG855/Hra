{
  "nbformat": 4,
  "nbformat_minor": 0,
  "metadata": {
    "colab": {
      "provenance": [],
      "authorship_tag": "ABX9TyOrn6o15kSSo4A+yrQVZkCG",
      "include_colab_link": true
    },
    "kernelspec": {
      "name": "python3",
      "display_name": "Python 3"
    },
    "language_info": {
      "name": "python"
    }
  },
  "cells": [
    {
      "cell_type": "markdown",
      "metadata": {
        "id": "view-in-github",
        "colab_type": "text"
      },
      "source": [
        "<a href=\"https://colab.research.google.com/github/AlexG855/Hra/blob/main/projekt.ipynb\" target=\"_parent\"><img src=\"https://colab.research.google.com/assets/colab-badge.svg\" alt=\"Open In Colab\"/></a>"
      ]
    },
    {
      "cell_type": "markdown",
      "source": [
        "\n",
        "\n",
        "# Čo je Python?\n",
        "Python je moderný, vysoko čitateľný programovací jazyk, ktorý vznikol v 90. rokoch a dnes patrí medzi najpopulárnejšie jazyky na svete.\n",
        " # Na čo sa Python používa?\n",
        "\n",
        "\n",
        "*   Webové aplikácie\n",
        "*   Data Science a Analýza dát\n",
        "* Umelá inteligencia (AI)\n",
        "* Automatizácia úloh\n",
        "* Tvorba hier\n",
        "* Desktopové aplikácie, robotika\n",
        "\n",
        "# Prečo je Python vhodný pre začiatočníkov?\n",
        "* Má jednoduchú a prehľadnú syntax, ktorá sa ľahko číta aj učí.\n",
        "* stačí pár riadkov a môžeš programovať.\n",
        "* Veľká komunita – nájdeš množstvo tutoriálov, fór, pomoci.\n",
        "* Používa sa v reálnom svete – firmy ako Google, NASA, Netflix, Spotify.\n",
        "\n",
        "# Využitie Pythonu v škole:\n",
        "1. **Výpočet priemeru známok**\n",
        "\n",
        "Zadáš známky z predmetov a program ti vypočíta aritmetický priemer.\n",
        "\n",
        "\n",
        "\n",
        "\n",
        "\n",
        "\n"
      ],
      "metadata": {
        "id": "zgeSFAYNrqN5"
      }
    },
    {
      "cell_type": "code",
      "source": [
        "znamky = [1, 2, 2, 1, 3]  # známky z matematiky\n",
        "priemer = sum(znamky) / len(znamky)\n",
        "print(f\"Tvoj priemer je: {round(priemer, 2)}\")"
      ],
      "metadata": {
        "colab": {
          "base_uri": "https://localhost:8080/"
        },
        "id": "OHTbGfU1xy9x",
        "outputId": "e72b1b52-1e6d-4bcb-8779-5b634eda300c"
      },
      "execution_count": null,
      "outputs": [
        {
          "output_type": "stream",
          "name": "stdout",
          "text": [
            "Tvoj priemer je: 1.8\n"
          ]
        }
      ]
    },
    {
      "cell_type": "markdown",
      "source": [
        "\n",
        "\n",
        "**2. Program na opakovanie slovíčok**\n",
        "\n",
        "Tento program:\n",
        "1. Zobrazí slovo v slovenčine.\n",
        "2. Študent napíše, čo znamená to slovo v angličtine.\n",
        "3. Program mu povie, či odpoveď bola správna alebo nie.\n",
        "4. Nakoniec ukáže skóre.\n",
        "\n",
        "\n",
        "\n"
      ],
      "metadata": {
        "id": "j0k2VKJcx8R4"
      }
    },
    {
      "cell_type": "code",
      "source": [
        "slovicka = { \"dom\": \"house\", \"auto\": \"car\", \"strom\": \"tree\", \"kniha\": \"book\", \"pes\": \"dog\" } skore = 0 print(\"Opakovanie slovíčok - zadaj anglický preklad:\") for slovak, english in slovicka.items(): odpoved = input(f\"Slovo '{slovak}': \").strip().lower() if odpoved == english: print(\"Správne! 👍\") skore += 1 else: print(f\"Nesprávne! Správna odpoveď je '{english}'.\") print() print(f\"Tvoje skóre je {skore} z {len(slovicka)}.\")\n"
      ],
      "metadata": {
        "id": "gKsbCdM-23DK"
      },
      "execution_count": null,
      "outputs": []
    },
    {
      "cell_type": "markdown",
      "source": [
        "#Využietie Pythonu pre INstagram/Tiktok tvorcov\n",
        "\n",
        "Python je mocný nástroj, ktorý môžu tvorcovia obsahu na platformách ako Instagram a TikTok využiť na zlepšenie efektivity, automatizáciu procesov a analyzovanie svojich výsledkov. Tento článok odpovedá na kľúčové otázky a ukazuje, ako ho využiť kreatívnym spôsobom.\n",
        "\n",
        "Ako môžem automatizovať postovanie obsahu? Python umožňuje plánovanie a postovanie príspevkov automaticky. Použitím knižnice instagrapi môžete napríklad nahrať príspevok na Instagram:\n"
      ],
      "metadata": {
        "id": "EogA_WOC3CXf"
      }
    },
    {
      "cell_type": "code",
      "source": [
        "!pip install instagrapi\n",
        "\n",
        "from instagrapi import Client\n",
        "\n",
        "cl = Client()\n",
        "cl.login(\"username\", \"password\")\n",
        "cl.photo_upload(\"path_to_image.jpg\", \"Popis príspevku s hashtagmi #python #tvorba\")"
      ],
      "metadata": {
        "id": "W8oqjNAB3zYv"
      },
      "execution_count": null,
      "outputs": []
    },
    {
      "cell_type": "markdown",
      "source": [
        "Tip: Vždy rešpektujte pravidlá platformy a zabráňte nadmernému spamu."
      ],
      "metadata": {
        "id": "o7vySBst4Dvn"
      }
    },
    {
      "cell_type": "markdown",
      "source": [
        "Ako môžem vytvoriť kreatívny obsah pomocou Pythonu? Použitím knižníc ako Pillow môžete ľahko upravovať obrázky."
      ],
      "metadata": {
        "id": "ynyLlNww30Lm"
      }
    },
    {
      "cell_type": "code",
      "source": [
        "!pip install pillow\n",
        "\n",
        "from PIL import Image, ImageDraw, ImageFont\n",
        "\n",
        "image = Image.open(\"path_to_image.jpg\")\n",
        "draw = ImageDraw.Draw(image)\n",
        "font = ImageFont.truetype(\"arial.ttf\", 36)\n",
        "draw.text((50, 50), \"Ahoj, svet!\", fill=\"white\", font=font)\n",
        "image.save(\"output_image.jpg\")\n",
        "image.show()"
      ],
      "metadata": {
        "id": "CiHS_AGs33Hn"
      },
      "execution_count": null,
      "outputs": []
    },
    {
      "cell_type": "markdown",
      "source": [
        "Tento jednoduchý krok dodá vašim obrázkom šmrnc!"
      ],
      "metadata": {
        "id": "Zcu003Dt4A_v"
      }
    },
    {
      "cell_type": "markdown",
      "source": [
        "Môžem automatizovať odpovede na komentáre? Áno! Tu je príklad použitia API na odpovedanie na komentáre."
      ],
      "metadata": {
        "id": "h8XtO-aJ35AY"
      }
    },
    {
      "cell_type": "code",
      "source": [
        "!pip install instagrapi\n",
        "\n",
        "from instagrapi import Client\n",
        "\n",
        "cl = Client()\n",
        "cl.login(\"username\", \"password\")\n",
        "media_id = cl.media_id(\"shortcode\")\n",
        "comments = cl.media_comments(media_id)\n",
        "\n",
        "for comment in comments:\n",
        "    cl.comment_reply(media_id, comment.pk, \"Ďakujeme za komentár!\")"
      ],
      "metadata": {
        "id": "rJMkxNHB36pW"
      },
      "execution_count": null,
      "outputs": []
    },
    {
      "cell_type": "markdown",
      "source": [
        "Táto funkcia vám pomôže udržiavať angažovanosť na vašom profile."
      ],
      "metadata": {
        "id": "dvBITyKI3-A-"
      }
    },
    {
      "cell_type": "markdown",
      "source": [
        "**úlohy:**\n",
        "\n",
        "\n",
        "1.   Saša (senior): úvod\n",
        "2.   Michal (programátor 1)-Python pre školu:\n",
        "* vytvor kod- Výpočet priemeru známok\n",
        "3. MArtin (programátor 2)\n",
        "* Python pre tvorcov\n"
      ],
      "metadata": {
        "id": "qDkjN0QN4yr5"
      }
    }
  ]
}